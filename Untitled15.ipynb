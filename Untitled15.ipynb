{
  "nbformat": 4,
  "nbformat_minor": 0,
  "metadata": {
    "colab": {
      "provenance": []
    },
    "kernelspec": {
      "name": "python3",
      "display_name": "Python 3"
    },
    "language_info": {
      "name": "python"
    }
  },
  "cells": [
    {
      "cell_type": "code",
      "execution_count": 1,
      "metadata": {
        "id": "1908gDZDappW"
      },
      "outputs": [],
      "source": [
        "# An error is an issue in a program that prevents the program from completing its task.\n",
        "# In comparison, an exception is a condition that interrupts the normal flow of the program.\n",
        "# Both errors and exceptions are a type of runtime error, which means they occur during the execution of a program."
      ]
    },
    {
      "cell_type": "code",
      "source": [
        "#  Exceptions are raised when the program is syntactically correct, but the code results in an error.\n",
        "# This error does not stop the execution of the program, however, it changes the normal flow of the program.\n",
        "\n",
        "salary = 10000\n",
        "try:\n",
        "   a = salary / 0\n",
        "   print(a)\n",
        "except ZeroDivisionError as e:\n",
        "  print(e)"
      ],
      "metadata": {
        "colab": {
          "base_uri": "https://localhost:8080/"
        },
        "id": "iXK9Y5nsa0iI",
        "outputId": "ebdb3d3a-4cc8-490f-9829-b0a2d583276a"
      },
      "execution_count": 2,
      "outputs": [
        {
          "output_type": "stream",
          "name": "stdout",
          "text": [
            "division by zero\n"
          ]
        }
      ]
    },
    {
      "cell_type": "code",
      "source": [
        "# Try and except statements are used to catch and handle exceptions in Python.\n",
        "# Statements that can raise exceptions are kept inside the try clause and the statements that handle the exception are written inside except clause.\n",
        "\n",
        "arr = [4, 7, 13]\n",
        "try:\n",
        "    print (\"Second element = %d\" %(arr[1]))\n",
        "    print (\"Eighth element = %d\" %(arr[7]))\n",
        "\n",
        "except:\n",
        "    print (\"An error occurred\")"
      ],
      "metadata": {
        "colab": {
          "base_uri": "https://localhost:8080/"
        },
        "id": "7z0etJbXgpG0",
        "outputId": "d0a98bfe-59f0-49c4-9f6f-b314a123a67a"
      },
      "execution_count": 3,
      "outputs": [
        {
          "output_type": "stream",
          "name": "stdout",
          "text": [
            "Second element = 7\n",
            "An error occurred\n"
          ]
        }
      ]
    },
    {
      "cell_type": "code",
      "source": [
        "#Try with Else Clause\n",
        "#In Python, you can also use the else clause on the try-except block which must be present after all the except clauses.\n",
        "#The code enters the else block only if the try clause does not raise an exception.\n",
        "\n",
        "def calculate(x , y):\n",
        "    try:\n",
        "        c = ((x+y) / (x-y))\n",
        "    except ZeroDivisionError:\n",
        "        print (\"x/y result in 0\")\n",
        "    else:\n",
        "        print (c)\n",
        "\n",
        "calculate(2.0, 3.0)\n",
        "calculate(3.0, 3.0)"
      ],
      "metadata": {
        "colab": {
          "base_uri": "https://localhost:8080/"
        },
        "id": "KNuRqTOoi2Vw",
        "outputId": "93e5da7a-4faf-4b44-f15c-ea99aa9c0ddf"
      },
      "execution_count": 4,
      "outputs": [
        {
          "output_type": "stream",
          "name": "stdout",
          "text": [
            "-5.0\n",
            "x/y result in 0\n"
          ]
        }
      ]
    },
    {
      "cell_type": "code",
      "source": [
        "# Finally Keyword in Python\n",
        "# Python provides a keyword finally, which is always executed after the try and except blocks.\n",
        "# The final block always executes after the normal termination of the try block or after the try block terminates due to some exception.\n",
        "\n",
        "try:\n",
        "    k = 5/0\n",
        "    print(k)\n",
        "except ZeroDivisionError:\n",
        "    print(\"Can't divide by zero\")\n",
        "\n",
        "finally:\n",
        "    print('Code Executed')"
      ],
      "metadata": {
        "colab": {
          "base_uri": "https://localhost:8080/"
        },
        "id": "XCT2EDohjYWz",
        "outputId": "de56a7bd-60f3-41e5-f4d9-4ee1d24224ce"
      },
      "execution_count": 5,
      "outputs": [
        {
          "output_type": "stream",
          "name": "stdout",
          "text": [
            "Can't divide by zero\n",
            "Code Executed\n"
          ]
        }
      ]
    },
    {
      "cell_type": "code",
      "source": [
        "# The raise statement allows the programmer to force a specific exception to occur.\n",
        "# The sole argument in raise indicates the exception to be raised.\n",
        "# This must be either an exception instance or an exception class\n",
        "\n",
        "x = -1\n",
        "\n",
        "if x < 0:\n",
        "  raise Exception(\"Sorry, no numbers below zero\")"
      ],
      "metadata": {
        "colab": {
          "base_uri": "https://localhost:8080/",
          "height": 211
        },
        "id": "dLpy2gzsjV8T",
        "outputId": "66aa2bb7-2ef2-4c2c-d00b-d0084b4e75f2"
      },
      "execution_count": 8,
      "outputs": [
        {
          "output_type": "error",
          "ename": "Exception",
          "evalue": "ignored",
          "traceback": [
            "\u001b[0;31m---------------------------------------------------------------------------\u001b[0m",
            "\u001b[0;31mException\u001b[0m                                 Traceback (most recent call last)",
            "\u001b[0;32m<ipython-input-8-2187d5efb451>\u001b[0m in \u001b[0;36m<cell line: 7>\u001b[0;34m()\u001b[0m\n\u001b[1;32m      6\u001b[0m \u001b[0;34m\u001b[0m\u001b[0m\n\u001b[1;32m      7\u001b[0m \u001b[0;32mif\u001b[0m \u001b[0mx\u001b[0m \u001b[0;34m<\u001b[0m \u001b[0;36m0\u001b[0m\u001b[0;34m:\u001b[0m\u001b[0;34m\u001b[0m\u001b[0;34m\u001b[0m\u001b[0m\n\u001b[0;32m----> 8\u001b[0;31m   \u001b[0;32mraise\u001b[0m \u001b[0mException\u001b[0m\u001b[0;34m(\u001b[0m\u001b[0;34m\"Sorry, no numbers below zero\"\u001b[0m\u001b[0;34m)\u001b[0m\u001b[0;34m\u001b[0m\u001b[0;34m\u001b[0m\u001b[0m\n\u001b[0m",
            "\u001b[0;31mException\u001b[0m: Sorry, no numbers below zero"
          ]
        }
      ]
    },
    {
      "cell_type": "code",
      "source": [
        "# User-Defined Exception in Python\n",
        "# Exceptions need to be derived from the Exception class, either directly or indirectly.\n",
        "# Although not mandatory, most of the exceptions are named as names that end in “Error” similar to the naming of the standard exceptions in python\n",
        "# Having custom exceptions - tailored to your specific use cases and that you can raise and catch in specific circumstances - can make your code much more readable and robust, and reduce the amount of code you write later to try and figure out what exactly went wrong.\n",
        "class SalaryNotInRangeError(Exception):\n",
        "    def __init__(self, salary, message=\"Salary is not in (5000, 15000) range\"):\n",
        "        self.salary = salary\n",
        "        self.message = message\n",
        "        super().__init__(self.message)\n",
        "\n",
        "\n",
        "salary = int(input(\"Enter salary amount: \"))\n",
        "if not 5000 < salary < 15000:\n",
        "    raise SalaryNotInRangeError(salary)"
      ],
      "metadata": {
        "colab": {
          "base_uri": "https://localhost:8080/",
          "height": 228
        },
        "id": "Cd4pcsOel5jk",
        "outputId": "d8bd0961-69d0-4ba3-fc91-1cd062beb536"
      },
      "execution_count": 9,
      "outputs": [
        {
          "name": "stdout",
          "output_type": "stream",
          "text": [
            "Enter salary amount: 2000\n"
          ]
        },
        {
          "output_type": "error",
          "ename": "SalaryNotInRangeError",
          "evalue": "ignored",
          "traceback": [
            "\u001b[0;31m---------------------------------------------------------------------------\u001b[0m",
            "\u001b[0;31mSalaryNotInRangeError\u001b[0m                     Traceback (most recent call last)",
            "\u001b[0;32m<ipython-input-9-3d77b92fb584>\u001b[0m in \u001b[0;36m<cell line: 13>\u001b[0;34m()\u001b[0m\n\u001b[1;32m     12\u001b[0m \u001b[0msalary\u001b[0m \u001b[0;34m=\u001b[0m \u001b[0mint\u001b[0m\u001b[0;34m(\u001b[0m\u001b[0minput\u001b[0m\u001b[0;34m(\u001b[0m\u001b[0;34m\"Enter salary amount: \"\u001b[0m\u001b[0;34m)\u001b[0m\u001b[0;34m)\u001b[0m\u001b[0;34m\u001b[0m\u001b[0;34m\u001b[0m\u001b[0m\n\u001b[1;32m     13\u001b[0m \u001b[0;32mif\u001b[0m \u001b[0;32mnot\u001b[0m \u001b[0;36m5000\u001b[0m \u001b[0;34m<\u001b[0m \u001b[0msalary\u001b[0m \u001b[0;34m<\u001b[0m \u001b[0;36m15000\u001b[0m\u001b[0;34m:\u001b[0m\u001b[0;34m\u001b[0m\u001b[0;34m\u001b[0m\u001b[0m\n\u001b[0;32m---> 14\u001b[0;31m     \u001b[0;32mraise\u001b[0m \u001b[0mSalaryNotInRangeError\u001b[0m\u001b[0;34m(\u001b[0m\u001b[0msalary\u001b[0m\u001b[0;34m)\u001b[0m\u001b[0;34m\u001b[0m\u001b[0;34m\u001b[0m\u001b[0m\n\u001b[0m",
            "\u001b[0;31mSalaryNotInRangeError\u001b[0m: Salary is not in (5000, 15000) range"
          ]
        }
      ]
    },
    {
      "cell_type": "code",
      "source": [],
      "metadata": {
        "id": "q-qe0mAWpAgR"
      },
      "execution_count": null,
      "outputs": []
    }
  ]
}